{
 "cells": [
  {
   "cell_type": "code",
   "execution_count": 1,
   "metadata": {
    "ExecuteTime": {
     "end_time": "2020-11-21T07:27:11.215543Z",
     "start_time": "2020-11-21T07:27:07.487458Z"
    }
   },
   "outputs": [
    {
     "data": {
      "text/plain": [
       "'2.1.0'"
      ]
     },
     "execution_count": 1,
     "metadata": {},
     "output_type": "execute_result"
    }
   ],
   "source": [
    "import tensorflow as tf\n",
    "import tensorflow.keras.layers as L\n",
    "tf.__version__"
   ]
  },
  {
   "cell_type": "markdown",
   "metadata": {},
   "source": [
    "# Classifying newswires: a multi-class classification example\n",
    "\n",
    "This notebook contains the code samples found in Chapter 3, Section 5 of [Deep Learning with Python](https://www.manning.com/books/deep-learning-with-python?a_aid=keras&a_bid=76564dff). Note that the original text features far more content, in particular further explanations and figures: in this notebook, you will only find source code and related comments.\n",
    "\n",
    "----\n",
    "\n",
    "In the previous section we saw how to classify vector inputs into two mutually exclusive classes using a densely-connected neural network. \n",
    "But what happens when you have more than two classes? \n",
    "\n",
    "In this section, we will build a network to classify Reuters newswires into 46 different mutually-exclusive topics. Since we have many \n",
    "classes, this problem is an instance of \"multi-class classification\", and since each data point should be classified into only one \n",
    "category, the problem is more specifically an instance of \"single-label, multi-class classification\". If each data point could have \n",
    "belonged to multiple categories (in our case, topics) then we would be facing a \"multi-label, multi-class classification\" problem."
   ]
  },
  {
   "cell_type": "markdown",
   "metadata": {},
   "source": [
    "## The Reuters dataset\n",
    "\n",
    "\n",
    "We will be working with the _Reuters dataset_, a set of short newswires and their topics, published by Reuters in 1986. It's a very simple, \n",
    "widely used toy dataset for text classification. There are 46 different topics; some topics are more represented than others, but each \n",
    "topic has at least 10 examples in the training set.\n",
    "\n",
    "Like IMDB and MNIST, the Reuters dataset comes packaged as part of Keras. Let's take a look right away:"
   ]
  },
  {
   "cell_type": "code",
   "execution_count": 2,
   "metadata": {
    "ExecuteTime": {
     "end_time": "2020-11-21T07:27:48.837146Z",
     "start_time": "2020-11-21T07:27:45.242317Z"
    }
   },
   "outputs": [
    {
     "name": "stdout",
     "output_type": "stream",
     "text": [
      "Downloading data from https://storage.googleapis.com/tensorflow/tf-keras-datasets/reuters.npz\n",
      "2113536/2110848 [==============================] - 0s 0us/step\n"
     ]
    }
   ],
   "source": [
    "from tensorflow.keras.datasets import reuters\n",
    "\n",
    "(train_data, train_labels), (test_data, test_labels) = reuters.load_data(num_words=10000)"
   ]
  },
  {
   "cell_type": "markdown",
   "metadata": {},
   "source": [
    "\n",
    "Like with the IMDB dataset, the argument `num_words=10000` restricts the data to the 10,000 most frequently occurring words found in the \n",
    "data.\n",
    "\n",
    "We have 8,982 training examples and 2,246 test examples:"
   ]
  },
  {
   "cell_type": "code",
   "execution_count": 3,
   "metadata": {
    "ExecuteTime": {
     "end_time": "2020-11-21T07:27:54.207534Z",
     "start_time": "2020-11-21T07:27:54.201776Z"
    }
   },
   "outputs": [
    {
     "data": {
      "text/plain": [
       "8982"
      ]
     },
     "execution_count": 3,
     "metadata": {},
     "output_type": "execute_result"
    }
   ],
   "source": [
    "len(train_data)"
   ]
  },
  {
   "cell_type": "code",
   "execution_count": 4,
   "metadata": {
    "ExecuteTime": {
     "end_time": "2020-11-21T07:27:54.611687Z",
     "start_time": "2020-11-21T07:27:54.607288Z"
    }
   },
   "outputs": [
    {
     "data": {
      "text/plain": [
       "2246"
      ]
     },
     "execution_count": 4,
     "metadata": {},
     "output_type": "execute_result"
    }
   ],
   "source": [
    "len(test_data)"
   ]
  },
  {
   "cell_type": "markdown",
   "metadata": {},
   "source": [
    "As with the IMDB reviews, each example is a list of integers (word indices):"
   ]
  },
  {
   "cell_type": "markdown",
   "metadata": {},
   "source": [
    "Here's how you can decode it back to words, in case you are curious:"
   ]
  },
  {
   "cell_type": "code",
   "execution_count": 5,
   "metadata": {
    "ExecuteTime": {
     "end_time": "2020-11-21T07:28:02.202477Z",
     "start_time": "2020-11-21T07:28:00.925861Z"
    }
   },
   "outputs": [
    {
     "name": "stdout",
     "output_type": "stream",
     "text": [
      "Downloading data from https://storage.googleapis.com/tensorflow/tf-keras-datasets/reuters_word_index.json\n",
      "557056/550378 [==============================] - 0s 0us/step\n"
     ]
    }
   ],
   "source": [
    "word_index = reuters.get_word_index()\n",
    "reverse_word_index = dict([(value, key) for (key, value) in word_index.items()])\n",
    "# Note that our indices were offset by 3\n",
    "# because 0, 1 and 2 are reserved indices for \"padding\", \"start of sequence\", and \"unknown\".\n",
    "decoded_newswire = ' '.join([reverse_word_index.get(i - 3, '?') for i in train_data[0]])"
   ]
  },
  {
   "cell_type": "code",
   "execution_count": 6,
   "metadata": {
    "ExecuteTime": {
     "end_time": "2020-11-21T07:28:02.209338Z",
     "start_time": "2020-11-21T07:28:02.204957Z"
    }
   },
   "outputs": [
    {
     "data": {
      "text/plain": [
       "'? ? ? said as a result of its december acquisition of space co it expects earnings per share in 1987 of 1 15 to 1 30 dlrs per share up from 70 cts in 1986 the company said pretax net should rise to nine to 10 mln dlrs from six mln dlrs in 1986 and rental operation revenues to 19 to 22 mln dlrs from 12 5 mln dlrs it said cash flow per share this year should be 2 50 to three dlrs reuter 3'"
      ]
     },
     "execution_count": 6,
     "metadata": {},
     "output_type": "execute_result"
    }
   ],
   "source": [
    "decoded_newswire"
   ]
  },
  {
   "cell_type": "markdown",
   "metadata": {},
   "source": [
    "The label associated with an example is an integer between 0 and 45: a topic index."
   ]
  },
  {
   "cell_type": "code",
   "execution_count": 8,
   "metadata": {
    "ExecuteTime": {
     "end_time": "2020-11-21T07:28:28.618978Z",
     "start_time": "2020-11-21T07:28:28.613131Z"
    }
   },
   "outputs": [
    {
     "data": {
      "text/plain": [
       "3"
      ]
     },
     "execution_count": 8,
     "metadata": {},
     "output_type": "execute_result"
    }
   ],
   "source": [
    "train_labels[10]"
   ]
  },
  {
   "cell_type": "markdown",
   "metadata": {},
   "source": [
    "## Preparing the data\n",
    "\n",
    "We can vectorize the data with the exact same code as in our previous example:"
   ]
  },
  {
   "cell_type": "code",
   "execution_count": 9,
   "metadata": {
    "ExecuteTime": {
     "end_time": "2020-11-21T07:28:32.394225Z",
     "start_time": "2020-11-21T07:28:32.077071Z"
    }
   },
   "outputs": [],
   "source": [
    "import numpy as np\n",
    "\n",
    "def vectorize_sequences(sequences, dimension=10000):\n",
    "    results = np.zeros((len(sequences), dimension))\n",
    "    for i, sequence in enumerate(sequences):\n",
    "        results[i, sequence] = 1.\n",
    "    return results\n",
    "\n",
    "# Our vectorized training data\n",
    "x_train = vectorize_sequences(train_data)\n",
    "# Our vectorized test data\n",
    "x_test = vectorize_sequences(test_data)"
   ]
  },
  {
   "cell_type": "markdown",
   "metadata": {},
   "source": [
    "\n",
    "To vectorize the labels, there are two possibilities: we could just cast the label list as an integer tensor, or we could use a \"one-hot\" \n",
    "encoding. One-hot encoding is a widely used format for categorical data, also called \"categorical encoding\". \n",
    "For a more detailed explanation of one-hot encoding, you can refer to Chapter 6, Section 1. \n",
    "In our case, one-hot encoding of our labels consists in embedding each label as an all-zero vector with a 1 in the place of the label index, e.g.:"
   ]
  },
  {
   "cell_type": "code",
   "execution_count": 10,
   "metadata": {
    "ExecuteTime": {
     "end_time": "2020-11-21T07:28:36.418494Z",
     "start_time": "2020-11-21T07:28:36.406732Z"
    }
   },
   "outputs": [],
   "source": [
    "def to_one_hot(labels, dimension=46):\n",
    "    results = np.zeros((len(labels), dimension))\n",
    "    for i, label in enumerate(labels):\n",
    "        results[i, label] = 1.\n",
    "    return results\n",
    "\n",
    "# Our vectorized training labels\n",
    "one_hot_train_labels = to_one_hot(train_labels)\n",
    "# Our vectorized test labels\n",
    "one_hot_test_labels = to_one_hot(test_labels)"
   ]
  },
  {
   "cell_type": "markdown",
   "metadata": {},
   "source": [
    "Note that there is a built-in way to do this in Keras, which you have already seen in action in our MNIST example:"
   ]
  },
  {
   "cell_type": "code",
   "execution_count": 11,
   "metadata": {
    "ExecuteTime": {
     "end_time": "2020-11-21T07:29:07.780572Z",
     "start_time": "2020-11-21T07:29:07.774433Z"
    }
   },
   "outputs": [],
   "source": [
    "one_hot_train_labels = tf.keras.utils.to_categorical(train_labels)\n",
    "one_hot_test_labels = tf.keras.utils.to_categorical(test_labels)"
   ]
  },
  {
   "cell_type": "code",
   "execution_count": 13,
   "metadata": {
    "ExecuteTime": {
     "end_time": "2020-11-21T07:29:15.748046Z",
     "start_time": "2020-11-21T07:29:15.741622Z"
    }
   },
   "outputs": [
    {
     "data": {
      "text/plain": [
       "array([0., 0., 0., 1., 0., 0., 0., 0., 0., 0., 0., 0., 0., 0., 0., 0., 0.,\n",
       "       0., 0., 0., 0., 0., 0., 0., 0., 0., 0., 0., 0., 0., 0., 0., 0., 0.,\n",
       "       0., 0., 0., 0., 0., 0., 0., 0., 0., 0., 0., 0.], dtype=float32)"
      ]
     },
     "execution_count": 13,
     "metadata": {},
     "output_type": "execute_result"
    }
   ],
   "source": [
    "one_hot_train_labels[0]"
   ]
  },
  {
   "cell_type": "markdown",
   "metadata": {},
   "source": [
    "## Building our network\n",
    "\n",
    "\n",
    "This topic classification problem looks very similar to our previous movie review classification problem: in both cases, we are trying to \n",
    "classify short snippets of text. There is however a new constraint here: the number of output classes has gone from 2 to 46, i.e. the \n",
    "dimensionality of the output space is much larger. \n",
    "\n",
    "In a stack of `Dense` layers like what we were using, each layer can only access information present in the output of the previous layer. \n",
    "If one layer drops some information relevant to the classification problem, this information can never be recovered by later layers: each \n",
    "layer can potentially become an \"information bottleneck\". In our previous example, we were using 16-dimensional intermediate layers, but a \n",
    "16-dimensional space may be too limited to learn to separate 46 different classes: such small layers may act as information bottlenecks, \n",
    "permanently dropping relevant information.\n",
    "\n",
    "For this reason we will use larger layers. Let's go with 64 units:"
   ]
  },
  {
   "cell_type": "code",
   "execution_count": 14,
   "metadata": {
    "ExecuteTime": {
     "end_time": "2020-11-21T07:31:38.713946Z",
     "start_time": "2020-11-21T07:31:38.650551Z"
    }
   },
   "outputs": [],
   "source": [
    "\n",
    "model = tf.keras.models.Sequential()\n",
    "model.add(L.Dense(64, activation='relu', input_shape=(10000,)))\n",
    "model.add(L.Dense(64, activation='relu'))\n",
    "model.add(L.Dense(46, activation='softmax'))"
   ]
  },
  {
   "cell_type": "markdown",
   "metadata": {},
   "source": [
    "\n",
    "There are two other things you should note about this architecture:\n",
    "\n",
    "* We are ending the network with a `Dense` layer of size 46. This means that for each input sample, our network will output a \n",
    "46-dimensional vector. Each entry in this vector (each dimension) will encode a different output class.\n",
    "* The last layer uses a `softmax` activation. You have already seen this pattern in the MNIST example. It means that the network will \n",
    "output a _probability distribution_ over the 46 different output classes, i.e. for every input sample, the network will produce a \n",
    "46-dimensional output vector where `output[i]` is the probability that the sample belongs to class `i`. The 46 scores will sum to 1.\n",
    "\n",
    "The best loss function to use in this case is `categorical_crossentropy`. It measures the distance between two probability distributions: \n",
    "in our case, between the probability distribution output by our network, and the true distribution of the labels. By minimizing the \n",
    "distance between these two distributions, we train our network to output something as close as possible to the true labels."
   ]
  },
  {
   "cell_type": "code",
   "execution_count": 15,
   "metadata": {
    "ExecuteTime": {
     "end_time": "2020-11-21T07:31:42.554543Z",
     "start_time": "2020-11-21T07:31:42.499820Z"
    }
   },
   "outputs": [],
   "source": [
    "model.compile(optimizer='rmsprop',\n",
    "              loss='categorical_crossentropy',\n",
    "              metrics=['accuracy'])"
   ]
  },
  {
   "cell_type": "markdown",
   "metadata": {},
   "source": [
    "## Validating our approach\n",
    "\n",
    "Let's set apart 1,000 samples in our training data to use as a validation set:"
   ]
  },
  {
   "cell_type": "code",
   "execution_count": 16,
   "metadata": {
    "ExecuteTime": {
     "end_time": "2020-11-21T07:31:44.793230Z",
     "start_time": "2020-11-21T07:31:44.789162Z"
    }
   },
   "outputs": [],
   "source": [
    "x_val = x_train[:1000]\n",
    "partial_x_train = x_train[1000:]\n",
    "\n",
    "y_val = one_hot_train_labels[:1000]\n",
    "partial_y_train = one_hot_train_labels[1000:]"
   ]
  },
  {
   "cell_type": "markdown",
   "metadata": {},
   "source": [
    "Now let's train our network for 20 epochs:"
   ]
  },
  {
   "cell_type": "code",
   "execution_count": 17,
   "metadata": {
    "ExecuteTime": {
     "end_time": "2020-11-21T07:31:57.314161Z",
     "start_time": "2020-11-21T07:31:47.233062Z"
    }
   },
   "outputs": [
    {
     "name": "stdout",
     "output_type": "stream",
     "text": [
      "Train on 7982 samples, validate on 1000 samples\n",
      "Epoch 1/20\n",
      "7982/7982 [==============================] - 1s 114us/sample - loss: 2.5425 - accuracy: 0.5236 - val_loss: 1.6614 - val_accuracy: 0.6390\n",
      "Epoch 2/20\n",
      "7982/7982 [==============================] - 0s 60us/sample - loss: 1.3718 - accuracy: 0.7077 - val_loss: 1.3116 - val_accuracy: 0.7000\n",
      "Epoch 3/20\n",
      "7982/7982 [==============================] - 0s 60us/sample - loss: 1.0326 - accuracy: 0.7744 - val_loss: 1.1354 - val_accuracy: 0.7470\n",
      "Epoch 4/20\n",
      "7982/7982 [==============================] - 0s 60us/sample - loss: 0.8190 - accuracy: 0.8183 - val_loss: 1.0389 - val_accuracy: 0.7790\n",
      "Epoch 5/20\n",
      "7982/7982 [==============================] - 1s 65us/sample - loss: 0.6506 - accuracy: 0.8592 - val_loss: 0.9736 - val_accuracy: 0.8010\n",
      "Epoch 6/20\n",
      "7982/7982 [==============================] - 0s 59us/sample - loss: 0.5212 - accuracy: 0.8921 - val_loss: 0.9198 - val_accuracy: 0.8130\n",
      "Epoch 7/20\n",
      "7982/7982 [==============================] - 0s 62us/sample - loss: 0.4187 - accuracy: 0.9138 - val_loss: 0.9228 - val_accuracy: 0.8070\n",
      "Epoch 8/20\n",
      "7982/7982 [==============================] - 0s 60us/sample - loss: 0.3346 - accuracy: 0.9297 - val_loss: 0.9280 - val_accuracy: 0.8060\n",
      "Epoch 9/20\n",
      "7982/7982 [==============================] - 0s 59us/sample - loss: 0.2804 - accuracy: 0.9399 - val_loss: 0.9125 - val_accuracy: 0.8220\n",
      "Epoch 10/20\n",
      "7982/7982 [==============================] - 0s 59us/sample - loss: 0.2337 - accuracy: 0.9464 - val_loss: 0.9233 - val_accuracy: 0.8060\n",
      "Epoch 11/20\n",
      "7982/7982 [==============================] - 0s 59us/sample - loss: 0.2033 - accuracy: 0.9489 - val_loss: 0.9354 - val_accuracy: 0.8200\n",
      "Epoch 12/20\n",
      "7982/7982 [==============================] - 0s 59us/sample - loss: 0.1845 - accuracy: 0.9523 - val_loss: 0.9465 - val_accuracy: 0.8040\n",
      "Epoch 13/20\n",
      "7982/7982 [==============================] - 0s 60us/sample - loss: 0.1635 - accuracy: 0.9544 - val_loss: 0.9154 - val_accuracy: 0.8190\n",
      "Epoch 14/20\n",
      "7982/7982 [==============================] - 1s 64us/sample - loss: 0.1475 - accuracy: 0.9558 - val_loss: 0.9634 - val_accuracy: 0.8020\n",
      "Epoch 15/20\n",
      "7982/7982 [==============================] - 0s 60us/sample - loss: 0.1378 - accuracy: 0.9545 - val_loss: 0.9850 - val_accuracy: 0.8050\n",
      "Epoch 16/20\n",
      "7982/7982 [==============================] - 0s 59us/sample - loss: 0.1318 - accuracy: 0.9564 - val_loss: 0.9922 - val_accuracy: 0.8090\n",
      "Epoch 17/20\n",
      "7982/7982 [==============================] - 0s 59us/sample - loss: 0.1247 - accuracy: 0.9575 - val_loss: 1.0230 - val_accuracy: 0.8060\n",
      "Epoch 18/20\n",
      "7982/7982 [==============================] - 0s 59us/sample - loss: 0.1199 - accuracy: 0.9559 - val_loss: 1.0148 - val_accuracy: 0.8060\n",
      "Epoch 19/20\n",
      "7982/7982 [==============================] - 0s 59us/sample - loss: 0.1122 - accuracy: 0.9583 - val_loss: 1.1361 - val_accuracy: 0.7850\n",
      "Epoch 20/20\n",
      "7982/7982 [==============================] - 0s 57us/sample - loss: 0.1157 - accuracy: 0.9575 - val_loss: 1.0194 - val_accuracy: 0.8120\n"
     ]
    }
   ],
   "source": [
    "history = model.fit(partial_x_train,\n",
    "                    partial_y_train,\n",
    "                    epochs=20,\n",
    "                    batch_size=512,\n",
    "                    validation_data=(x_val, y_val))"
   ]
  },
  {
   "cell_type": "markdown",
   "metadata": {},
   "source": [
    "Let's display its loss and accuracy curves:"
   ]
  },
  {
   "cell_type": "code",
   "execution_count": 19,
   "metadata": {
    "ExecuteTime": {
     "end_time": "2020-11-21T07:32:04.637252Z",
     "start_time": "2020-11-21T07:32:04.453727Z"
    }
   },
   "outputs": [
    {
     "data": {
      "image/png": "[encoded data removed]",
      "text/plain": [
       "<Figure size 432x288 with 1 Axes>"
      ]
     },
     "metadata": {
      "needs_background": "light"
     },
     "output_type": "display_data"
    }
   ],
   "source": [
    "import matplotlib.pyplot as plt\n",
    "\n",
    "loss = history.history['loss']\n",
    "val_loss = history.history['val_loss']\n",
    "\n",
    "epochs = range(1, len(loss) + 1)\n",
    "\n",
    "plt.plot(epochs, loss, 'bo', label='Training loss')\n",
    "plt.plot(epochs, val_loss, 'b', label='Validation loss')\n",
    "plt.title('Training and validation loss')\n",
    "plt.xlabel('Epochs')\n",
    "plt.ylabel('Loss')\n",
    "plt.legend()\n",
    "\n",
    "plt.show()"
   ]
  },
  {
   "cell_type": "code",
   "execution_count": 21,
   "metadata": {
    "ExecuteTime": {
     "end_time": "2020-11-21T07:32:26.931218Z",
     "start_time": "2020-11-21T07:32:26.770793Z"
    }
   },
   "outputs": [
    {
     "data": {
      "image/png": "[encoded data removed]",
      "text/plain": [
       "<Figure size 432x288 with 1 Axes>"
      ]
     },
     "metadata": {
      "needs_background": "light"
     },
     "output_type": "display_data"
    }
   ],
   "source": [
    "plt.clf()   # clear figure\n",
    "\n",
    "acc = history.history['accuracy']\n",
    "val_acc = history.history['val_accuracy']\n",
    "\n",
    "plt.plot(epochs, acc, 'bo', label='Training acc')\n",
    "plt.plot(epochs, val_acc, 'b', label='Validation acc')\n",
    "plt.title('Training and validation accuracy')\n",
    "plt.xlabel('Epochs')\n",
    "plt.ylabel('Loss')\n",
    "plt.legend()\n",
    "\n",
    "plt.show()"
   ]
  },
  {
   "cell_type": "markdown",
   "metadata": {},
   "source": [
    "It seems that the network starts overfitting after 8 epochs. Let's train a new network from scratch for 8 epochs, then let's evaluate it on \n",
    "the test set:"
   ]
  },
  {
   "cell_type": "code",
   "execution_count": 23,
   "metadata": {
    "ExecuteTime": {
     "end_time": "2020-11-21T07:32:54.997644Z",
     "start_time": "2020-11-21T07:32:50.634078Z"
    }
   },
   "outputs": [
    {
     "name": "stdout",
     "output_type": "stream",
     "text": [
      "Train on 7982 samples, validate on 1000 samples\n",
      "Epoch 1/8\n",
      "7982/7982 [==============================] - 1s 105us/sample - loss: 2.6584 - accuracy: 0.4969 - val_loss: 1.7447 - val_accuracy: 0.6290\n",
      "Epoch 2/8\n",
      "7982/7982 [==============================] - 0s 58us/sample - loss: 1.4059 - accuracy: 0.6998 - val_loss: 1.2924 - val_accuracy: 0.7110\n",
      "Epoch 3/8\n",
      "7982/7982 [==============================] - 0s 59us/sample - loss: 1.0297 - accuracy: 0.7765 - val_loss: 1.1096 - val_accuracy: 0.7560\n",
      "Epoch 4/8\n",
      "7982/7982 [==============================] - 0s 60us/sample - loss: 0.8041 - accuracy: 0.8289 - val_loss: 1.0162 - val_accuracy: 0.7810\n",
      "Epoch 5/8\n",
      "7982/7982 [==============================] - 0s 59us/sample - loss: 0.6480 - accuracy: 0.8622 - val_loss: 0.9536 - val_accuracy: 0.7970\n",
      "Epoch 6/8\n",
      "7982/7982 [==============================] - 0s 60us/sample - loss: 0.5143 - accuracy: 0.8906 - val_loss: 0.9198 - val_accuracy: 0.7930\n",
      "Epoch 7/8\n",
      "7982/7982 [==============================] - 0s 60us/sample - loss: 0.4149 - accuracy: 0.9112 - val_loss: 0.8934 - val_accuracy: 0.8100\n",
      "Epoch 8/8\n",
      "7982/7982 [==============================] - 0s 56us/sample - loss: 0.3412 - accuracy: 0.9288 - val_loss: 0.8958 - val_accuracy: 0.8010\n",
      "2246/2246 [==============================] - 0s 52us/sample - loss: 0.9741 - accuracy: 0.7823\n"
     ]
    }
   ],
   "source": [
    "model = tf.keras.models.Sequential()\n",
    "model.add(L.Dense(64, activation='relu', input_shape=(10000,)))\n",
    "model.add(L.Dense(64, activation='relu'))\n",
    "model.add(L.Dense(46, activation='softmax'))\n",
    "\n",
    "model.compile(optimizer='rmsprop',\n",
    "              loss='categorical_crossentropy',\n",
    "              metrics=['accuracy'])\n",
    "model.fit(partial_x_train,\n",
    "          partial_y_train,\n",
    "          epochs=8,\n",
    "          batch_size=512,\n",
    "          validation_data=(x_val, y_val))\n",
    "results = model.evaluate(x_test, one_hot_test_labels)"
   ]
  },
  {
   "cell_type": "code",
   "execution_count": 24,
   "metadata": {
    "ExecuteTime": {
     "end_time": "2020-11-21T07:33:23.970037Z",
     "start_time": "2020-11-21T07:33:23.964506Z"
    }
   },
   "outputs": [
    {
     "data": {
      "text/plain": [
       "[0.9740828964610452, 0.7822796]"
      ]
     },
     "execution_count": 24,
     "metadata": {},
     "output_type": "execute_result"
    }
   ],
   "source": [
    "results"
   ]
  },
  {
   "cell_type": "markdown",
   "metadata": {},
   "source": [
    "\n",
    "Our approach reaches an accuracy of ~78%. With a balanced binary classification problem, the accuracy reached by a purely random classifier \n",
    "would be 50%, but in our case it is closer to 19%, so our results seem pretty good, at least when compared to a random baseline:"
   ]
  },
  {
   "cell_type": "code",
   "execution_count": 25,
   "metadata": {
    "ExecuteTime": {
     "end_time": "2020-11-21T07:33:34.702984Z",
     "start_time": "2020-11-21T07:33:34.694648Z"
    }
   },
   "outputs": [
    {
     "data": {
      "text/plain": [
       "0.18432769367764915"
      ]
     },
     "execution_count": 25,
     "metadata": {},
     "output_type": "execute_result"
    }
   ],
   "source": [
    "import copy\n",
    "\n",
    "test_labels_copy = copy.copy(test_labels)\n",
    "np.random.shuffle(test_labels_copy)\n",
    "float(np.sum(np.array(test_labels) == np.array(test_labels_copy))) / len(test_labels)"
   ]
  },
  {
   "cell_type": "markdown",
   "metadata": {},
   "source": [
    "## Generating predictions on new data\n",
    "\n",
    "We can verify that the `predict` method of our model instance returns a probability distribution over all 46 topics. Let's generate topic \n",
    "predictions for all of the test data:"
   ]
  },
  {
   "cell_type": "code",
   "execution_count": 26,
   "metadata": {
    "ExecuteTime": {
     "end_time": "2020-11-21T07:33:37.798994Z",
     "start_time": "2020-11-21T07:33:37.627693Z"
    }
   },
   "outputs": [],
   "source": [
    "predictions = model.predict(x_test)"
   ]
  },
  {
   "cell_type": "markdown",
   "metadata": {},
   "source": [
    "Each entry in `predictions` is a vector of length 46:"
   ]
  },
  {
   "cell_type": "code",
   "execution_count": 27,
   "metadata": {
    "ExecuteTime": {
     "end_time": "2020-11-21T07:33:39.653172Z",
     "start_time": "2020-11-21T07:33:39.647518Z"
    }
   },
   "outputs": [
    {
     "data": {
      "text/plain": [
       "(46,)"
      ]
     },
     "execution_count": 27,
     "metadata": {},
     "output_type": "execute_result"
    }
   ],
   "source": [
    "predictions[0].shape"
   ]
  },
  {
   "cell_type": "markdown",
   "metadata": {},
   "source": [
    "The coefficients in this vector sum to 1:"
   ]
  },
  {
   "cell_type": "code",
   "execution_count": 28,
   "metadata": {
    "ExecuteTime": {
     "end_time": "2020-11-21T07:33:42.927871Z",
     "start_time": "2020-11-21T07:33:42.921091Z"
    }
   },
   "outputs": [
    {
     "data": {
      "text/plain": [
       "0.9999999"
      ]
     },
     "execution_count": 28,
     "metadata": {},
     "output_type": "execute_result"
    }
   ],
   "source": [
    "np.sum(predictions[0])"
   ]
  },
  {
   "cell_type": "markdown",
   "metadata": {},
   "source": [
    "The largest entry is the predicted class, i.e. the class with the highest probability:"
   ]
  },
  {
   "cell_type": "code",
   "execution_count": 29,
   "metadata": {
    "ExecuteTime": {
     "end_time": "2020-11-21T07:33:45.584371Z",
     "start_time": "2020-11-21T07:33:45.577065Z"
    }
   },
   "outputs": [
    {
     "data": {
      "text/plain": [
       "3"
      ]
     },
     "execution_count": 29,
     "metadata": {},
     "output_type": "execute_result"
    }
   ],
   "source": [
    "np.argmax(predictions[0])"
   ]
  },
  {
   "cell_type": "markdown",
   "metadata": {},
   "source": [
    "## A different way to handle the labels and the loss\n",
    "\n",
    "We mentioned earlier that another way to encode the labels would be to cast them as an integer tensor, like such:"
   ]
  },
  {
   "cell_type": "code",
   "execution_count": 30,
   "metadata": {
    "ExecuteTime": {
     "end_time": "2020-11-21T07:33:51.768137Z",
     "start_time": "2020-11-21T07:33:51.764287Z"
    }
   },
   "outputs": [],
   "source": [
    "y_train = np.array(train_labels)\n",
    "y_test = np.array(test_labels)"
   ]
  },
  {
   "cell_type": "markdown",
   "metadata": {},
   "source": [
    "\n",
    "The only thing it would change is the choice of the loss function. Our previous loss, `categorical_crossentropy`, expects the labels to \n",
    "follow a categorical encoding. With integer labels, we should use `sparse_categorical_crossentropy`:"
   ]
  },
  {
   "cell_type": "code",
   "execution_count": 31,
   "metadata": {
    "ExecuteTime": {
     "end_time": "2020-11-21T07:34:00.316940Z",
     "start_time": "2020-11-21T07:34:00.263646Z"
    }
   },
   "outputs": [],
   "source": [
    "model.compile(optimizer='rmsprop', loss='sparse_categorical_crossentropy', metrics=['acc'])"
   ]
  },
  {
   "cell_type": "markdown",
   "metadata": {},
   "source": [
    "This new loss function is still mathematically the same as `categorical_crossentropy`; it just has a different interface."
   ]
  },
  {
   "cell_type": "markdown",
   "metadata": {},
   "source": [
    "## On the importance of having sufficiently large intermediate layers\n",
    "\n",
    "\n",
    "We mentioned earlier that since our final outputs were 46-dimensional, we should avoid intermediate layers with much less than 46 hidden \n",
    "units. Now let's try to see what happens when we introduce an information bottleneck by having intermediate layers significantly less than \n",
    "46-dimensional, e.g. 4-dimensional."
   ]
  },
  {
   "cell_type": "code",
   "execution_count": 32,
   "metadata": {
    "ExecuteTime": {
     "end_time": "2020-11-21T07:34:41.919510Z",
     "start_time": "2020-11-21T07:34:29.335494Z"
    }
   },
   "outputs": [
    {
     "name": "stdout",
     "output_type": "stream",
     "text": [
      "Train on 7982 samples, validate on 1000 samples\n",
      "Epoch 1/20\n",
      "7982/7982 [==============================] - 1s 120us/sample - loss: 2.9149 - accuracy: 0.3464 - val_loss: 2.3038 - val_accuracy: 0.4050\n",
      "Epoch 2/20\n",
      "7982/7982 [==============================] - 1s 76us/sample - loss: 1.9715 - accuracy: 0.4257 - val_loss: 1.8011 - val_accuracy: 0.4350\n",
      "Epoch 3/20\n",
      "7982/7982 [==============================] - 1s 75us/sample - loss: 1.5109 - accuracy: 0.5837 - val_loss: 1.5421 - val_accuracy: 0.6520\n",
      "Epoch 4/20\n",
      "7982/7982 [==============================] - 1s 76us/sample - loss: 1.2483 - accuracy: 0.7070 - val_loss: 1.4129 - val_accuracy: 0.6740\n",
      "Epoch 5/20\n",
      "7982/7982 [==============================] - 1s 76us/sample - loss: 1.0869 - accuracy: 0.7331 - val_loss: 1.3556 - val_accuracy: 0.6950\n",
      "Epoch 6/20\n",
      "7982/7982 [==============================] - 1s 76us/sample - loss: 0.9640 - accuracy: 0.7747 - val_loss: 1.3402 - val_accuracy: 0.7170\n",
      "Epoch 7/20\n",
      "7982/7982 [==============================] - 1s 76us/sample - loss: 0.8731 - accuracy: 0.7892 - val_loss: 1.3208 - val_accuracy: 0.7170\n",
      "Epoch 8/20\n",
      "7982/7982 [==============================] - 1s 76us/sample - loss: 0.8017 - accuracy: 0.8019 - val_loss: 1.3449 - val_accuracy: 0.7220\n",
      "Epoch 9/20\n",
      "7982/7982 [==============================] - 1s 76us/sample - loss: 0.7433 - accuracy: 0.8072 - val_loss: 1.3971 - val_accuracy: 0.7170\n",
      "Epoch 10/20\n",
      "7982/7982 [==============================] - 1s 76us/sample - loss: 0.6956 - accuracy: 0.8151 - val_loss: 1.3775 - val_accuracy: 0.7290\n",
      "Epoch 11/20\n",
      "7982/7982 [==============================] - 1s 76us/sample - loss: 0.6551 - accuracy: 0.8254 - val_loss: 1.4057 - val_accuracy: 0.7230\n",
      "Epoch 12/20\n",
      "7982/7982 [==============================] - 1s 75us/sample - loss: 0.6161 - accuracy: 0.8296 - val_loss: 1.4667 - val_accuracy: 0.7250\n",
      "Epoch 13/20\n",
      "7982/7982 [==============================] - 1s 77us/sample - loss: 0.5805 - accuracy: 0.8365 - val_loss: 1.5068 - val_accuracy: 0.7240\n",
      "Epoch 14/20\n",
      "7982/7982 [==============================] - 1s 76us/sample - loss: 0.5506 - accuracy: 0.8477 - val_loss: 1.5551 - val_accuracy: 0.7260\n",
      "Epoch 15/20\n",
      "7982/7982 [==============================] - 1s 77us/sample - loss: 0.5212 - accuracy: 0.8609 - val_loss: 1.5860 - val_accuracy: 0.7240\n",
      "Epoch 16/20\n",
      "7982/7982 [==============================] - 1s 75us/sample - loss: 0.4947 - accuracy: 0.8702 - val_loss: 1.6310 - val_accuracy: 0.7200\n",
      "Epoch 17/20\n",
      "7982/7982 [==============================] - 1s 75us/sample - loss: 0.4671 - accuracy: 0.8786 - val_loss: 1.7247 - val_accuracy: 0.7230\n",
      "Epoch 18/20\n",
      "7982/7982 [==============================] - 1s 77us/sample - loss: 0.4488 - accuracy: 0.8861 - val_loss: 1.7549 - val_accuracy: 0.7170\n",
      "Epoch 19/20\n",
      "7982/7982 [==============================] - 1s 75us/sample - loss: 0.4273 - accuracy: 0.8911 - val_loss: 1.8254 - val_accuracy: 0.7230\n",
      "Epoch 20/20\n",
      "7982/7982 [==============================] - 1s 75us/sample - loss: 0.4105 - accuracy: 0.8945 - val_loss: 1.8822 - val_accuracy: 0.7220\n"
     ]
    },
    {
     "data": {
      "text/plain": [
       "<tensorflow.python.keras.callbacks.History at 0x1808ec810>"
      ]
     },
     "execution_count": 32,
     "metadata": {},
     "output_type": "execute_result"
    }
   ],
   "source": [
    "model = tf.keras.models.Sequential()\n",
    "model.add(L.Dense(64, activation='relu', input_shape=(10000,)))\n",
    "model.add(L.Dense(4, activation='relu'))\n",
    "model.add(L.Dense(46, activation='softmax'))\n",
    "\n",
    "model.compile(optimizer='rmsprop',\n",
    "              loss='categorical_crossentropy',\n",
    "              metrics=['accuracy'])\n",
    "model.fit(partial_x_train,\n",
    "          partial_y_train,\n",
    "          epochs=20,\n",
    "          batch_size=128,\n",
    "          validation_data=(x_val, y_val))"
   ]
  },
  {
   "cell_type": "markdown",
   "metadata": {},
   "source": [
    "\n",
    "Our network now seems to peak at ~71% test accuracy, a 8% absolute drop. This drop is mostly due to the fact that we are now trying to \n",
    "compress a lot of information (enough information to recover the separation hyperplanes of 46 classes) into an intermediate space that is \n",
    "too low-dimensional. The network is able to cram _most_ of the necessary information into these 8-dimensional representations, but not all \n",
    "of it."
   ]
  },
  {
   "cell_type": "markdown",
   "metadata": {},
   "source": [
    "## Further experiments\n",
    "\n",
    "* Try using larger or smaller layers: 32 units, 128 units...\n",
    "* We were using two hidden layers. Now try to use a single hidden layer, or three hidden layers."
   ]
  },
  {
   "cell_type": "markdown",
   "metadata": {},
   "source": [
    "## Wrapping up\n",
    "\n",
    "\n",
    "Here's what you should take away from this example:\n",
    "\n",
    "* If you are trying to classify data points between N classes, your network should end with a `Dense` layer of size N.\n",
    "* In a single-label, multi-class classification problem, your network should end with a `softmax` activation, so that it will output a \n",
    "probability distribution over the N output classes.\n",
    "* _Categorical crossentropy_ is almost always the loss function you should use for such problems. It minimizes the distance between the \n",
    "probability distributions output by the network, and the true distribution of the targets.\n",
    "* There are two ways to handle labels in multi-class classification:\n",
    "    ** Encoding the labels via \"categorical encoding\" (also known as \"one-hot encoding\") and using `categorical_crossentropy` as your loss \n",
    "function.\n",
    "    ** Encoding the labels as integers and using the `sparse_categorical_crossentropy` loss function.\n",
    "* If you need to classify data into a large number of categories, then you should avoid creating information bottlenecks in your network by having \n",
    "intermediate layers that are too small."
   ]
  }
 ],
 "metadata": {
  "kernelspec": {
   "display_name": "Python 3",
   "language": "python",
   "name": "python3"
  },
  "language_info": {
   "codemirror_mode": {
    "name": "ipython",
    "version": 3
   },
   "file_extension": ".py",
   "mimetype": "text/x-python",
   "name": "python",
   "nbconvert_exporter": "python",
   "pygments_lexer": "ipython3",
   "version": "3.7.4"
  }
 },
 "nbformat": 4,
 "nbformat_minor": 2
}
