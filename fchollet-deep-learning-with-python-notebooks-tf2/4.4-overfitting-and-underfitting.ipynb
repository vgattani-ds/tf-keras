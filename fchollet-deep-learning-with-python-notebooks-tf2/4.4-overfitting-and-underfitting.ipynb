{
 "cells": [
  {
   "cell_type": "code",
   "execution_count": 1,
   "metadata": {
    "ExecuteTime": {
     "end_time": "2020-11-21T10:47:46.272586Z",
     "start_time": "2020-11-21T10:47:42.530877Z"
    }
   },
   "outputs": [
    {
     "data": {
      "text/plain": [
       "'2.1.0'"
      ]
     },
     "execution_count": 1,
     "metadata": {},
     "output_type": "execute_result"
    }
   ],
   "source": [
    "import tensorflow as tf\n",
    "import tensorflow.keras.layers as L\n",
    "tf.__version__"
   ]
  },
  {
   "cell_type": "markdown",
   "metadata": {},
   "source": [
    "# Overfitting and underfitting\n",
    "\n",
    "This notebook contains the code samples found in Chapter 3, Section 6 of [Deep Learning with Python](https://www.manning.com/books/deep-learning-with-python?a_aid=keras&a_bid=76564dff). Note that the original text features far more content, in particular further explanations and figures: in this notebook, you will only find source code and related comments.\n",
    "\n",
    "----\n",
    "\n",
    "\n",
    "In all the examples we saw in the previous chapter -- movie review sentiment prediction, topic classification, and house price regression -- \n",
    "we could notice that the performance of our model on the held-out validation data would always peak after a few epochs and would then start \n",
    "degrading, i.e. our model would quickly start to _overfit_ to the training data. Overfitting happens in every single machine learning \n",
    "problem. Learning how to deal with overfitting is essential to mastering machine learning.\n",
    "\n",
    "The fundamental issue in machine learning is the tension between optimization and generalization. \"Optimization\" refers to the process of \n",
    "adjusting a model to get the best performance possible on the training data (the \"learning\" in \"machine learning\"), while \"generalization\" \n",
    "refers to how well the trained model would perform on data it has never seen before. The goal of the game is to get good generalization, of \n",
    "course, but you do not control generalization; you can only adjust the model based on its training data.\n",
    "\n",
    "At the beginning of training, optimization and generalization are correlated: the lower your loss on training data, the lower your loss on \n",
    "test data. While this is happening, your model is said to be _under-fit_: there is still progress to be made; the network hasn't yet \n",
    "modeled all relevant patterns in the training data. But after a certain number of iterations on the training data, generalization stops \n",
    "improving, validation metrics stall then start degrading: the model is then starting to over-fit, i.e. is it starting to learn patterns \n",
    "that are specific to the training data but that are misleading or irrelevant when it comes to new data.\n",
    "\n",
    "To prevent a model from learning misleading or irrelevant patterns found in the training data, _the best solution is of course to get \n",
    "more training data_. A model trained on more data will naturally generalize better. When that is no longer possible, the next best solution \n",
    "is to modulate the quantity of information that your model is allowed to store, or to add constraints on what information it is allowed to \n",
    "store. If a network can only afford to memorize a small number of patterns, the optimization process will force it to focus on the most \n",
    "prominent patterns, which have a better chance of generalizing well.\n",
    "\n",
    "The processing of fighting overfitting in this way is called _regularization_. Let's review some of the most common regularization \n",
    "techniques, and let's apply them in practice to improve our movie classification model from  the previous chapter."
   ]
  },
  {
   "cell_type": "markdown",
   "metadata": {},
   "source": [
    "Note: in this notebook we will be using the IMDB test set as our validation set. It doesn't matter in this context.\n",
    "\n",
    "Let's prepare the data using the code from Chapter 3, Section 5:"
   ]
  },
  {
   "cell_type": "code",
   "execution_count": 2,
   "metadata": {
    "ExecuteTime": {
     "end_time": "2020-11-21T10:49:19.876257Z",
     "start_time": "2020-11-21T10:49:13.438998Z"
    }
   },
   "outputs": [],
   "source": [
    "from tensorflow.keras.datasets import imdb\n",
    "import numpy as np\n",
    "\n",
    "(train_data, train_labels), (test_data, test_labels) = imdb.load_data(num_words=10000)\n",
    "\n",
    "def vectorize_sequences(sequences, dimension=10000):\n",
    "    # Create an all-zero matrix of shape (len(sequences), dimension)\n",
    "    results = np.zeros((len(sequences), dimension))\n",
    "    for i, sequence in enumerate(sequences):\n",
    "        results[i, sequence] = 1.  # set specific indices of results[i] to 1s\n",
    "    return results\n",
    "\n",
    "# Our vectorized training data\n",
    "x_train = vectorize_sequences(train_data)\n",
    "# Our vectorized test data\n",
    "x_test = vectorize_sequences(test_data)\n",
    "# Our vectorized labels\n",
    "y_train = np.asarray(train_labels).astype('float32')\n",
    "y_test = np.asarray(test_labels).astype('float32')"
   ]
  },
  {
   "cell_type": "markdown",
   "metadata": {},
   "source": [
    "# Fighting overfitting\n",
    "\n",
    "## Reducing the network's size\n",
    "\n",
    "\n",
    "The simplest way to prevent overfitting is to reduce the size of the model, i.e. the number of learnable parameters in the model (which is \n",
    "determined by the number of layers and the number of units per layer). In deep learning, the number of learnable parameters in a model is \n",
    "often referred to as the model's \"capacity\". Intuitively, a model with more parameters will have more \"memorization capacity\" and therefore \n",
    "will be able to easily learn a perfect dictionary-like mapping between training samples and their targets, a mapping without any \n",
    "generalization power. For instance, a model with 500,000 binary parameters could easily be made to learn the class of every digits in the \n",
    "MNIST training set: we would only need 10 binary parameters for each of the 50,000 digits. Such a model would be useless for classifying \n",
    "new digit samples. Always keep this in mind: deep learning models tend to be good at fitting to the training data, but the real challenge \n",
    "is generalization, not fitting.\n",
    "\n",
    "On the other hand, if the network has limited memorization resources, it will not be able to learn this mapping as easily, and thus, in \n",
    "order to minimize its loss, it will have to resort to learning compressed representations that have predictive power regarding the targets \n",
    "-- precisely the type of representations that we are interested in. At the same time, keep in mind that you should be using models that have \n",
    "enough parameters that they won't be underfitting: your model shouldn't be starved for memorization resources. There is a compromise to be \n",
    "found between \"too much capacity\" and \"not enough capacity\".\n",
    "\n",
    "Unfortunately, there is no magical formula to determine what the right number of layers is, or what the right size for each layer is. You \n",
    "will have to evaluate an array of different architectures (on your validation set, not on your test set, of course) in order to find the \n",
    "right model size for your data. The general workflow to find an appropriate model size is to start with relatively few layers and \n",
    "parameters, and start increasing the size of the layers or adding new layers until you see diminishing returns with regard to the \n",
    "validation loss.\n",
    "\n",
    "Let's try this on our movie review classification network. Our original network was as such:"
   ]
  },
  {
   "cell_type": "code",
   "execution_count": 3,
   "metadata": {
    "ExecuteTime": {
     "end_time": "2020-11-21T10:50:29.459975Z",
     "start_time": "2020-11-21T10:50:29.370210Z"
    }
   },
   "outputs": [],
   "source": [
    "\n",
    "\n",
    "original_model = tf.keras.models.Sequential()\n",
    "original_model.add(L.Dense(16, activation='relu', input_shape=(10000,)))\n",
    "original_model.add(L.Dense(16, activation='relu'))\n",
    "original_model.add(L.Dense(1, activation='sigmoid'))\n",
    "\n",
    "original_model.compile(optimizer='rmsprop',\n",
    "                       loss='binary_crossentropy',\n",
    "                       metrics=['acc'])"
   ]
  },
  {
   "cell_type": "markdown",
   "metadata": {},
   "source": [
    "Now let's try to replace it with this smaller network:"
   ]
  },
  {
   "cell_type": "code",
   "execution_count": 4,
   "metadata": {
    "ExecuteTime": {
     "end_time": "2020-11-21T10:50:45.959597Z",
     "start_time": "2020-11-21T10:50:45.897268Z"
    }
   },
   "outputs": [],
   "source": [
    "smaller_model = tf.keras.models.Sequential()\n",
    "smaller_model.add(L.Dense(4, activation='relu', input_shape=(10000,)))\n",
    "smaller_model.add(L.Dense(4, activation='relu'))\n",
    "smaller_model.add(L.Dense(1, activation='sigmoid'))\n",
    "\n",
    "smaller_model.compile(optimizer='rmsprop',\n",
    "                      loss='binary_crossentropy',\n",
    "                      metrics=['acc'])"
   ]
  },
  {
   "cell_type": "markdown",
   "metadata": {},
   "source": [
    "\n",
    "Here's a comparison of the validation losses of the original network and the smaller network. The dots are the validation loss values of \n",
    "the smaller network, and the crosses are the initial network (remember: a lower validation loss signals a better model)."
   ]
  },
  {
   "cell_type": "code",
   "execution_count": 5,
   "metadata": {
    "ExecuteTime": {
     "end_time": "2020-11-21T10:51:40.189519Z",
     "start_time": "2020-11-21T10:50:50.607885Z"
    }
   },
   "outputs": [
    {
     "name": "stdout",
     "output_type": "stream",
     "text": [
      "Train on 25000 samples, validate on 25000 samples\n",
      "Epoch 1/20\n",
      "25000/25000 [==============================] - 5s 190us/sample - loss: 0.4438 - acc: 0.8265 - val_loss: 0.3285 - val_acc: 0.8835\n",
      "Epoch 2/20\n",
      "25000/25000 [==============================] - 3s 130us/sample - loss: 0.2521 - acc: 0.9110 - val_loss: 0.2829 - val_acc: 0.8898\n",
      "Epoch 3/20\n",
      "25000/25000 [==============================] - 2s 77us/sample - loss: 0.1985 - acc: 0.9288 - val_loss: 0.3064 - val_acc: 0.8762\n",
      "Epoch 4/20\n",
      "25000/25000 [==============================] - 3s 107us/sample - loss: 0.1653 - acc: 0.9416 - val_loss: 0.3048 - val_acc: 0.8802\n",
      "Epoch 5/20\n",
      "25000/25000 [==============================] - 2s 74us/sample - loss: 0.1466 - acc: 0.9485 - val_loss: 0.3137 - val_acc: 0.8796\n",
      "Epoch 6/20\n",
      "25000/25000 [==============================] - 3s 122us/sample - loss: 0.1277 - acc: 0.9554 - val_loss: 0.3353 - val_acc: 0.8760\n",
      "Epoch 7/20\n",
      "25000/25000 [==============================] - 2s 86us/sample - loss: 0.1130 - acc: 0.9612 - val_loss: 0.3708 - val_acc: 0.8682\n",
      "Epoch 8/20\n",
      "25000/25000 [==============================] - 3s 105us/sample - loss: 0.1010 - acc: 0.9664 - val_loss: 0.3820 - val_acc: 0.8708\n",
      "Epoch 9/20\n",
      "25000/25000 [==============================] - 2s 98us/sample - loss: 0.0877 - acc: 0.9712 - val_loss: 0.4121 - val_acc: 0.8662\n",
      "Epoch 10/20\n",
      "25000/25000 [==============================] - 2s 94us/sample - loss: 0.0803 - acc: 0.9735 - val_loss: 0.4336 - val_acc: 0.8651\n",
      "Epoch 11/20\n",
      "25000/25000 [==============================] - 2s 93us/sample - loss: 0.0677 - acc: 0.9791 - val_loss: 0.4713 - val_acc: 0.8609\n",
      "Epoch 12/20\n",
      "25000/25000 [==============================] - 2s 86us/sample - loss: 0.0601 - acc: 0.9814 - val_loss: 0.5266 - val_acc: 0.8571\n",
      "Epoch 13/20\n",
      "25000/25000 [==============================] - 2s 74us/sample - loss: 0.0521 - acc: 0.9841 - val_loss: 0.5299 - val_acc: 0.8589\n",
      "Epoch 14/20\n",
      "25000/25000 [==============================] - 2s 87us/sample - loss: 0.0459 - acc: 0.9864 - val_loss: 0.5625 - val_acc: 0.8576\n",
      "Epoch 15/20\n",
      "25000/25000 [==============================] - 2s 89us/sample - loss: 0.0382 - acc: 0.9895 - val_loss: 0.6185 - val_acc: 0.8510\n",
      "Epoch 16/20\n",
      "25000/25000 [==============================] - 3s 103us/sample - loss: 0.0330 - acc: 0.9906 - val_loss: 0.6482 - val_acc: 0.8504\n",
      "Epoch 17/20\n",
      "25000/25000 [==============================] - 2s 94us/sample - loss: 0.0283 - acc: 0.9925 - val_loss: 0.6674 - val_acc: 0.8529\n",
      "Epoch 18/20\n",
      "25000/25000 [==============================] - 2s 92us/sample - loss: 0.0227 - acc: 0.9944 - val_loss: 0.7057 - val_acc: 0.8518\n",
      "Epoch 19/20\n",
      "25000/25000 [==============================] - 3s 104us/sample - loss: 0.0195 - acc: 0.9953 - val_loss: 0.8305 - val_acc: 0.8400\n",
      "Epoch 20/20\n",
      "25000/25000 [==============================] - 2s 73us/sample - loss: 0.0158 - acc: 0.9960 - val_loss: 0.7894 - val_acc: 0.8515\n"
     ]
    }
   ],
   "source": [
    "original_hist = original_model.fit(x_train, y_train,\n",
    "                                   epochs=20,\n",
    "                                   batch_size=512,\n",
    "                                   validation_data=(x_test, y_test))"
   ]
  },
  {
   "cell_type": "code",
   "execution_count": 6,
   "metadata": {
    "ExecuteTime": {
     "end_time": "2020-11-21T10:52:22.225160Z",
     "start_time": "2020-11-21T10:51:40.206984Z"
    }
   },
   "outputs": [
    {
     "name": "stdout",
     "output_type": "stream",
     "text": [
      "Train on 25000 samples, validate on 25000 samples\n",
      "Epoch 1/20\n",
      "25000/25000 [==============================] - 4s 141us/sample - loss: 0.5752 - acc: 0.7088 - val_loss: 0.5172 - val_acc: 0.7742\n",
      "Epoch 2/20\n",
      "25000/25000 [==============================] - 2s 86us/sample - loss: 0.4687 - acc: 0.8595 - val_loss: 0.4739 - val_acc: 0.8344\n",
      "Epoch 3/20\n",
      "25000/25000 [==============================] - 2s 83us/sample - loss: 0.4195 - acc: 0.9048 - val_loss: 0.4505 - val_acc: 0.8641\n",
      "Epoch 4/20\n",
      "25000/25000 [==============================] - 2s 78us/sample - loss: 0.3833 - acc: 0.9274 - val_loss: 0.4477 - val_acc: 0.8573\n",
      "Epoch 5/20\n",
      "25000/25000 [==============================] - 2s 81us/sample - loss: 0.3526 - acc: 0.9383 - val_loss: 0.4225 - val_acc: 0.8780\n",
      "Epoch 6/20\n",
      "25000/25000 [==============================] - 2s 73us/sample - loss: 0.3214 - acc: 0.9497 - val_loss: 0.4218 - val_acc: 0.8693\n",
      "Epoch 7/20\n",
      "25000/25000 [==============================] - 2s 78us/sample - loss: 0.2882 - acc: 0.9576 - val_loss: 0.4032 - val_acc: 0.8738\n",
      "Epoch 8/20\n",
      "25000/25000 [==============================] - 2s 73us/sample - loss: 0.2521 - acc: 0.9627 - val_loss: 0.4044 - val_acc: 0.8696\n",
      "Epoch 9/20\n",
      "25000/25000 [==============================] - 2s 75us/sample - loss: 0.2137 - acc: 0.9664 - val_loss: 0.4061 - val_acc: 0.8664\n",
      "Epoch 10/20\n",
      "25000/25000 [==============================] - 2s 85us/sample - loss: 0.1769 - acc: 0.9682 - val_loss: 0.3708 - val_acc: 0.8722\n",
      "Epoch 11/20\n",
      "25000/25000 [==============================] - 2s 67us/sample - loss: 0.1369 - acc: 0.9687 - val_loss: 0.3593 - val_acc: 0.8701\n",
      "Epoch 12/20\n",
      "25000/25000 [==============================] - 2s 79us/sample - loss: 0.1097 - acc: 0.9712 - val_loss: 0.3761 - val_acc: 0.8693\n",
      "Epoch 13/20\n",
      "25000/25000 [==============================] - 2s 82us/sample - loss: 0.0959 - acc: 0.9756 - val_loss: 0.4033 - val_acc: 0.8679\n",
      "Epoch 14/20\n",
      "25000/25000 [==============================] - 2s 90us/sample - loss: 0.0858 - acc: 0.9780 - val_loss: 0.4191 - val_acc: 0.8664\n",
      "Epoch 15/20\n",
      "25000/25000 [==============================] - 2s 88us/sample - loss: 0.0768 - acc: 0.9806 - val_loss: 0.4402 - val_acc: 0.8654\n",
      "Epoch 16/20\n",
      "25000/25000 [==============================] - 3s 105us/sample - loss: 0.0692 - acc: 0.9826 - val_loss: 0.4881 - val_acc: 0.8629\n",
      "Epoch 17/20\n",
      "25000/25000 [==============================] - 2s 85us/sample - loss: 0.0616 - acc: 0.9856 - val_loss: 0.4696 - val_acc: 0.8622\n",
      "Epoch 18/20\n",
      "25000/25000 [==============================] - 2s 88us/sample - loss: 0.0551 - acc: 0.9877 - val_loss: 0.5119 - val_acc: 0.8616\n",
      "Epoch 19/20\n",
      "25000/25000 [==============================] - 2s 74us/sample - loss: 0.0494 - acc: 0.9886 - val_loss: 0.5028 - val_acc: 0.8560\n",
      "Epoch 20/20\n",
      "25000/25000 [==============================] - 2s 62us/sample - loss: 0.0416 - acc: 0.9904 - val_loss: 0.5276 - val_acc: 0.8572\n"
     ]
    }
   ],
   "source": [
    "smaller_model_hist = smaller_model.fit(x_train, y_train,\n",
    "                                       epochs=20,\n",
    "                                       batch_size=512,\n",
    "                                       validation_data=(x_test, y_test))"
   ]
  },
  {
   "cell_type": "code",
   "execution_count": 7,
   "metadata": {
    "ExecuteTime": {
     "end_time": "2020-11-21T10:52:22.253346Z",
     "start_time": "2020-11-21T10:52:22.237196Z"
    }
   },
   "outputs": [],
   "source": [
    "epochs = range(1, 21)\n",
    "original_val_loss = original_hist.history['val_loss']\n",
    "smaller_model_val_loss = smaller_model_hist.history['val_loss']"
   ]
  },
  {
   "cell_type": "code",
   "execution_count": 9,
   "metadata": {
    "ExecuteTime": {
     "end_time": "2020-11-21T10:53:20.073695Z",
     "start_time": "2020-11-21T10:53:19.892028Z"
    }
   },
   "outputs": [
    {
     "data": {
      "image/png": "[encoded data removed]",
      "text/plain": [
       "<Figure size 432x288 with 1 Axes>"
      ]
     },
     "metadata": {
      "needs_background": "light"
     },
     "output_type": "display_data"
    }
   ],
   "source": [
    "import matplotlib.pyplot as plt\n",
    "\n",
    "# b+ is for \"blue cross\"\n",
    "plt.plot(epochs, original_val_loss, 'b+', label='Original model')\n",
    "# \"bo\" is for \"blue dot\"\n",
    "plt.plot(epochs, smaller_model_val_loss, 'bo', label='Smaller model')\n",
    "plt.xlabel('Epochs')\n",
    "plt.ylabel('Validation loss')\n",
    "plt.legend()\n",
    "\n",
    "plt.show()"
   ]
  },
  {
   "cell_type": "markdown",
   "metadata": {},
   "source": [
    "\n",
    "As you can see, the smaller network starts overfitting later than the reference one (after 6 epochs rather than 4) and its performance \n",
    "degrades much more slowly once it starts overfitting.\n",
    "\n",
    "Now, for kicks, let's add to this benchmark a network that has much more capacity, far more than the problem would warrant:"
   ]
  },
  {
   "cell_type": "code",
   "execution_count": 10,
   "metadata": {
    "ExecuteTime": {
     "end_time": "2020-11-21T10:53:41.497292Z",
     "start_time": "2020-11-21T10:53:41.331947Z"
    }
   },
   "outputs": [],
   "source": [
    "bigger_model = tf.keras.models.Sequential()\n",
    "bigger_model.add(L.Dense(512, activation='relu', input_shape=(10000,)))\n",
    "bigger_model.add(L.Dense(512, activation='relu'))\n",
    "bigger_model.add(L.Dense(1, activation='sigmoid'))\n",
    "\n",
    "bigger_model.compile(optimizer='rmsprop',\n",
    "                     loss='binary_crossentropy',\n",
    "                     metrics=['acc'])"
   ]
  },
  {
   "cell_type": "code",
   "execution_count": 11,
   "metadata": {
    "ExecuteTime": {
     "end_time": "2020-11-21T10:56:04.516093Z",
     "start_time": "2020-11-21T10:53:43.330054Z"
    }
   },
   "outputs": [
    {
     "name": "stdout",
     "output_type": "stream",
     "text": [
      "Train on 25000 samples, validate on 25000 samples\n",
      "Epoch 1/20\n",
      "25000/25000 [==============================] - 8s 311us/sample - loss: 0.4688 - acc: 0.8037 - val_loss: 0.3010 - val_acc: 0.8890\n",
      "Epoch 2/20\n",
      "25000/25000 [==============================] - 7s 288us/sample - loss: 0.2214 - acc: 0.9123 - val_loss: 0.3090 - val_acc: 0.8767\n",
      "Epoch 3/20\n",
      "25000/25000 [==============================] - 7s 293us/sample - loss: 0.1274 - acc: 0.9522 - val_loss: 0.3582 - val_acc: 0.8746\n",
      "Epoch 4/20\n",
      "25000/25000 [==============================] - 8s 308us/sample - loss: 0.0797 - acc: 0.9732 - val_loss: 0.3399 - val_acc: 0.8827\n",
      "Epoch 5/20\n",
      "25000/25000 [==============================] - 8s 318us/sample - loss: 0.0701 - acc: 0.9868 - val_loss: 0.4036 - val_acc: 0.8797\n",
      "Epoch 6/20\n",
      "25000/25000 [==============================] - 7s 291us/sample - loss: 0.0033 - acc: 0.9997 - val_loss: 0.6375 - val_acc: 0.8811\n",
      "Epoch 7/20\n",
      "25000/25000 [==============================] - 8s 306us/sample - loss: 0.0798 - acc: 0.9899 - val_loss: 0.5583 - val_acc: 0.8795\n",
      "Epoch 8/20\n",
      "25000/25000 [==============================] - 7s 299us/sample - loss: 5.5259e-04 - acc: 1.0000 - val_loss: 0.7624 - val_acc: 0.8810\n",
      "Epoch 9/20\n",
      "25000/25000 [==============================] - 8s 314us/sample - loss: 7.2952e-05 - acc: 1.0000 - val_loss: 0.9196 - val_acc: 0.8811\n",
      "Epoch 10/20\n",
      "25000/25000 [==============================] - 8s 325us/sample - loss: 0.1419 - acc: 0.9894 - val_loss: 0.6701 - val_acc: 0.8766\n",
      "Epoch 11/20\n",
      "25000/25000 [==============================] - 6s 243us/sample - loss: 1.3282e-04 - acc: 1.0000 - val_loss: 0.7893 - val_acc: 0.8809\n",
      "Epoch 12/20\n",
      "25000/25000 [==============================] - 6s 248us/sample - loss: 2.5864e-05 - acc: 1.0000 - val_loss: 0.9413 - val_acc: 0.8798\n",
      "Epoch 13/20\n",
      "25000/25000 [==============================] - 7s 282us/sample - loss: 4.4334e-06 - acc: 1.0000 - val_loss: 1.0941 - val_acc: 0.8803\n",
      "Epoch 14/20\n",
      "25000/25000 [==============================] - 6s 250us/sample - loss: 7.5469e-07 - acc: 1.0000 - val_loss: 1.2295 - val_acc: 0.8800\n",
      "Epoch 15/20\n",
      "25000/25000 [==============================] - 7s 266us/sample - loss: 1.4703e-07 - acc: 1.0000 - val_loss: 1.3656 - val_acc: 0.8798\n",
      "Epoch 16/20\n",
      "25000/25000 [==============================] - 7s 277us/sample - loss: 4.0756e-08 - acc: 1.0000 - val_loss: 1.4478 - val_acc: 0.8800\n",
      "Epoch 17/20\n",
      "25000/25000 [==============================] - 7s 268us/sample - loss: 1.9391e-08 - acc: 1.0000 - val_loss: 1.4941 - val_acc: 0.8798\n",
      "Epoch 18/20\n",
      "25000/25000 [==============================] - 6s 250us/sample - loss: 1.2551e-08 - acc: 1.0000 - val_loss: 1.5203 - val_acc: 0.8797\n",
      "Epoch 19/20\n",
      "25000/25000 [==============================] - 7s 268us/sample - loss: 9.3987e-09 - acc: 1.0000 - val_loss: 1.5425 - val_acc: 0.8800\n",
      "Epoch 20/20\n",
      "25000/25000 [==============================] - 6s 234us/sample - loss: 7.5287e-09 - acc: 1.0000 - val_loss: 1.5594 - val_acc: 0.8802\n"
     ]
    }
   ],
   "source": [
    "bigger_model_hist = bigger_model.fit(x_train, y_train,\n",
    "                                     epochs=20,\n",
    "                                     batch_size=512,\n",
    "                                     validation_data=(x_test, y_test))"
   ]
  },
  {
   "cell_type": "markdown",
   "metadata": {},
   "source": [
    "Here's how the bigger network fares compared to the reference one. The dots are the validation loss values of the bigger network, and the \n",
    "crosses are the initial network."
   ]
  },
  {
   "cell_type": "code",
   "execution_count": 13,
   "metadata": {
    "ExecuteTime": {
     "end_time": "2020-11-21T10:56:24.857346Z",
     "start_time": "2020-11-21T10:56:24.677785Z"
    }
   },
   "outputs": [
    {
     "data": {
      "image/png": "[encoded data removed]",
      "text/plain": [
       "<Figure size 432x288 with 1 Axes>"
      ]
     },
     "metadata": {
      "needs_background": "light"
     },
     "output_type": "display_data"
    }
   ],
   "source": [
    "bigger_model_val_loss = bigger_model_hist.history['val_loss']\n",
    "\n",
    "plt.plot(epochs, original_val_loss, 'b+', label='Original model')\n",
    "plt.plot(epochs, bigger_model_val_loss, 'bo', label='Bigger model')\n",
    "plt.xlabel('Epochs')\n",
    "plt.ylabel('Validation loss')\n",
    "plt.legend()\n",
    "\n",
    "plt.show()"
   ]
  },
  {
   "cell_type": "markdown",
   "metadata": {},
   "source": [
    "\n",
    "The bigger network starts overfitting almost right away, after just one epoch, and overfits much more severely. Its validation loss is also \n",
    "more noisy.\n",
    "\n",
    "Meanwhile, here are the training losses for our two networks:"
   ]
  },
  {
   "cell_type": "code",
   "execution_count": 14,
   "metadata": {
    "ExecuteTime": {
     "end_time": "2020-11-21T10:56:29.262291Z",
     "start_time": "2020-11-21T10:56:29.099162Z"
    }
   },
   "outputs": [
    {
     "data": {
      "image/png": "[encoded data removed]",
      "text/plain": [
       "<Figure size 432x288 with 1 Axes>"
      ]
     },
     "metadata": {
      "needs_background": "light"
     },
     "output_type": "display_data"
    }
   ],
   "source": [
    "original_train_loss = original_hist.history['loss']\n",
    "bigger_model_train_loss = bigger_model_hist.history['loss']\n",
    "\n",
    "plt.plot(epochs, original_train_loss, 'b+', label='Original model')\n",
    "plt.plot(epochs, bigger_model_train_loss, 'bo', label='Bigger model')\n",
    "plt.xlabel('Epochs')\n",
    "plt.ylabel('Training loss')\n",
    "plt.legend()\n",
    "\n",
    "plt.show()"
   ]
  },
  {
   "cell_type": "markdown",
   "metadata": {},
   "source": [
    "As you can see, the bigger network gets its training loss near zero very quickly. The more capacity the network has, the quicker it will be \n",
    "able to model the training data (resulting in a low training loss), but the more susceptible it is to overfitting (resulting in a large \n",
    "difference between the training and validation loss)."
   ]
  },
  {
   "cell_type": "markdown",
   "metadata": {},
   "source": [
    "## Adding weight regularization\n",
    "\n",
    "\n",
    "You may be familiar with _Occam's Razor_ principle: given two explanations for something, the explanation most likely to be correct is the \n",
    "\"simplest\" one, the one that makes the least amount of assumptions. This also applies to the models learned by neural networks: given some \n",
    "training data and a network architecture, there are multiple sets of weights values (multiple _models_) that could explain the data, and \n",
    "simpler models are less likely to overfit than complex ones.\n",
    "\n",
    "A \"simple model\" in this context is a model where the distribution of parameter values has less entropy (or a model with fewer \n",
    "parameters altogether, as we saw in the section above). Thus a common way to mitigate overfitting is to put constraints on the complexity \n",
    "of a network by forcing its weights to only take small values, which makes the distribution of weight values more \"regular\". This is called \n",
    "\"weight regularization\", and it is done by adding to the loss function of the network a _cost_ associated with having large weights. This \n",
    "cost comes in two flavors:\n",
    "\n",
    "* L1 regularization, where the cost added is proportional to the _absolute value of the weights coefficients_ (i.e. to what is called the \n",
    "\"L1 norm\" of the weights).\n",
    "* L2 regularization, where the cost added is proportional to the _square of the value of the weights coefficients_ (i.e. to what is called \n",
    "the \"L2 norm\" of the weights). L2 regularization is also called _weight decay_ in the context of neural networks. Don't let the different \n",
    "name confuse you: weight decay is mathematically the exact same as L2 regularization.\n",
    "\n",
    "In Keras, weight regularization is added by passing _weight regularizer instances_ to layers as keyword arguments. Let's add L2 weight \n",
    "regularization to our movie review classification network:"
   ]
  },
  {
   "cell_type": "code",
   "execution_count": 16,
   "metadata": {
    "ExecuteTime": {
     "end_time": "2020-11-21T10:57:53.670815Z",
     "start_time": "2020-11-21T10:57:53.640430Z"
    }
   },
   "outputs": [],
   "source": [
    "l2_model = tf.keras.models.Sequential()\n",
    "l2_model.add(L.Dense(16, kernel_regularizer=tf.keras.regularizers.l2(0.001),\n",
    "                          activation='relu', input_shape=(10000,)))\n",
    "l2_model.add(L.Dense(16, kernel_regularizer=tf.keras.regularizers.l2(0.001),\n",
    "                          activation='relu'))\n",
    "l2_model.add(L.Dense(1, activation='sigmoid'))"
   ]
  },
  {
   "cell_type": "code",
   "execution_count": 17,
   "metadata": {
    "ExecuteTime": {
     "end_time": "2020-11-21T10:57:54.519089Z",
     "start_time": "2020-11-21T10:57:54.468490Z"
    }
   },
   "outputs": [],
   "source": [
    "l2_model.compile(optimizer='rmsprop',\n",
    "                 loss='binary_crossentropy',\n",
    "                 metrics=['acc'])"
   ]
  },
  {
   "cell_type": "markdown",
   "metadata": {},
   "source": [
    "`l2(0.001)` means that every coefficient in the weight matrix of the layer will add `0.001 * weight_coefficient_value` to the total loss of \n",
    "the network. Note that because this penalty is _only added at training time_, the loss for this network will be much higher at training \n",
    "than at test time.\n",
    "\n",
    "Here's the impact of our L2 regularization penalty:"
   ]
  },
  {
   "cell_type": "code",
   "execution_count": 18,
   "metadata": {
    "ExecuteTime": {
     "end_time": "2020-11-21T10:59:01.573539Z",
     "start_time": "2020-11-21T10:58:08.379269Z"
    }
   },
   "outputs": [
    {
     "name": "stdout",
     "output_type": "stream",
     "text": [
      "Train on 25000 samples, validate on 25000 samples\n",
      "Epoch 1/20\n",
      "25000/25000 [==============================] - 5s 181us/sample - loss: 0.4958 - acc: 0.8246 - val_loss: 0.3969 - val_acc: 0.8649\n",
      "Epoch 2/20\n",
      "25000/25000 [==============================] - 3s 107us/sample - loss: 0.3139 - acc: 0.9052 - val_loss: 0.3322 - val_acc: 0.8892\n",
      "Epoch 3/20\n",
      "25000/25000 [==============================] - 2s 83us/sample - loss: 0.2671 - acc: 0.9204 - val_loss: 0.3307 - val_acc: 0.8858\n",
      "Epoch 4/20\n",
      "25000/25000 [==============================] - 2s 75us/sample - loss: 0.2458 - acc: 0.9286 - val_loss: 0.3289 - val_acc: 0.8862\n",
      "Epoch 5/20\n",
      "25000/25000 [==============================] - 2s 97us/sample - loss: 0.2315 - acc: 0.9337 - val_loss: 0.3432 - val_acc: 0.8813\n",
      "Epoch 6/20\n",
      "25000/25000 [==============================] - 2s 91us/sample - loss: 0.2217 - acc: 0.9373 - val_loss: 0.3469 - val_acc: 0.8814\n",
      "Epoch 7/20\n",
      "25000/25000 [==============================] - 3s 107us/sample - loss: 0.2180 - acc: 0.9396 - val_loss: 0.3574 - val_acc: 0.8787\n",
      "Epoch 8/20\n",
      "25000/25000 [==============================] - 3s 127us/sample - loss: 0.2109 - acc: 0.9426 - val_loss: 0.3606 - val_acc: 0.8778\n",
      "Epoch 9/20\n",
      "25000/25000 [==============================] - 3s 123us/sample - loss: 0.2077 - acc: 0.9430 - val_loss: 0.3924 - val_acc: 0.8702\n",
      "Epoch 10/20\n",
      "25000/25000 [==============================] - 3s 124us/sample - loss: 0.2007 - acc: 0.9461 - val_loss: 0.3772 - val_acc: 0.8749\n",
      "Epoch 11/20\n",
      "25000/25000 [==============================] - 3s 109us/sample - loss: 0.2010 - acc: 0.9457 - val_loss: 0.4054 - val_acc: 0.8679\n",
      "Epoch 12/20\n",
      "25000/25000 [==============================] - 3s 102us/sample - loss: 0.1946 - acc: 0.9474 - val_loss: 0.4245 - val_acc: 0.8630\n",
      "Epoch 13/20\n",
      "25000/25000 [==============================] - 2s 91us/sample - loss: 0.1958 - acc: 0.9486 - val_loss: 0.4349 - val_acc: 0.8596\n",
      "Epoch 14/20\n",
      "25000/25000 [==============================] - 3s 105us/sample - loss: 0.1902 - acc: 0.9516 - val_loss: 0.4102 - val_acc: 0.8683\n",
      "Epoch 15/20\n",
      "25000/25000 [==============================] - 2s 96us/sample - loss: 0.1880 - acc: 0.9506 - val_loss: 0.4023 - val_acc: 0.8705\n",
      "Epoch 16/20\n",
      "25000/25000 [==============================] - 3s 102us/sample - loss: 0.1832 - acc: 0.9531 - val_loss: 0.5625 - val_acc: 0.8294\n",
      "Epoch 17/20\n",
      "25000/25000 [==============================] - 2s 95us/sample - loss: 0.1871 - acc: 0.9517 - val_loss: 0.4131 - val_acc: 0.8696\n",
      "Epoch 18/20\n",
      "25000/25000 [==============================] - 3s 105us/sample - loss: 0.1770 - acc: 0.9564 - val_loss: 0.4365 - val_acc: 0.8638\n",
      "Epoch 19/20\n",
      "25000/25000 [==============================] - 3s 108us/sample - loss: 0.1794 - acc: 0.9528 - val_loss: 0.4187 - val_acc: 0.8686\n",
      "Epoch 20/20\n",
      "25000/25000 [==============================] - 2s 95us/sample - loss: 0.1751 - acc: 0.9562 - val_loss: 0.4279 - val_acc: 0.8668\n"
     ]
    }
   ],
   "source": [
    "l2_model_hist = l2_model.fit(x_train, y_train,\n",
    "                             epochs=20,\n",
    "                             batch_size=512,\n",
    "                             validation_data=(x_test, y_test))"
   ]
  },
  {
   "cell_type": "code",
   "execution_count": 20,
   "metadata": {
    "ExecuteTime": {
     "end_time": "2020-11-21T10:59:15.556923Z",
     "start_time": "2020-11-21T10:59:15.374113Z"
    }
   },
   "outputs": [
    {
     "data": {
      "image/png": "[encoded data removed]",
      "text/plain": [
       "<Figure size 432x288 with 1 Axes>"
      ]
     },
     "metadata": {
      "needs_background": "light"
     },
     "output_type": "display_data"
    }
   ],
   "source": [
    "l2_model_val_loss = l2_model_hist.history['val_loss']\n",
    "\n",
    "plt.plot(epochs, original_val_loss, 'b+', label='Original model')\n",
    "plt.plot(epochs, l2_model_val_loss, 'bo', label='L2-regularized model')\n",
    "plt.xlabel('Epochs')\n",
    "plt.ylabel('Validation loss')\n",
    "plt.legend()\n",
    "\n",
    "plt.show()"
   ]
  },
  {
   "cell_type": "markdown",
   "metadata": {},
   "source": [
    "\n",
    "\n",
    "As you can see, the model with L2 regularization (dots) has become much more resistant to overfitting than the reference model (crosses), \n",
    "even though both models have the same number of parameters.\n",
    "\n",
    "As alternatives to L2 regularization, you could use one of the following Keras weight regularizers:"
   ]
  },
  {
   "cell_type": "code",
   "execution_count": 21,
   "metadata": {
    "ExecuteTime": {
     "end_time": "2020-11-21T10:59:26.053265Z",
     "start_time": "2020-11-21T10:59:26.033212Z"
    }
   },
   "outputs": [
    {
     "data": {
      "text/plain": [
       "<tensorflow.python.keras.regularizers.L1L2 at 0x13dc5b110>"
      ]
     },
     "execution_count": 21,
     "metadata": {},
     "output_type": "execute_result"
    }
   ],
   "source": [
    "# L1 regularization\n",
    "tf.keras.regularizers.l1(0.001)\n",
    "\n",
    "# L1 and L2 regularization at the same time\n",
    "tf.keras.regularizers.l1_l2(l1=0.001, l2=0.001)"
   ]
  },
  {
   "cell_type": "markdown",
   "metadata": {},
   "source": [
    "## Adding dropout\n",
    "\n",
    "\n",
    "Dropout is one of the most effective and most commonly used regularization techniques for neural networks, developed by Hinton and his \n",
    "students at the University of Toronto. Dropout, applied to a layer, consists of randomly \"dropping out\" (i.e. setting to zero) a number of \n",
    "output features of the layer during training. Let's say a given layer would normally have returned a vector `[0.2, 0.5, 1.3, 0.8, 1.1]` for a \n",
    "given input sample during training; after applying dropout, this vector will have a few zero entries distributed at random, e.g. `[0, 0.5, \n",
    "1.3, 0, 1.1]`. The \"dropout rate\" is the fraction of the features that are being zeroed-out; it is usually set between 0.2 and 0.5. At test \n",
    "time, no units are dropped out, and instead the layer's output values are scaled down by a factor equal to the dropout rate, so as to \n",
    "balance for the fact that more units are active than at training time.\n",
    "\n",
    "Consider a Numpy matrix containing the output of a layer, `layer_output`, of shape `(batch_size, features)`. At training time, we would be \n",
    "zero-ing out at random a fraction of the values in the matrix:"
   ]
  },
  {
   "cell_type": "code",
   "execution_count": 23,
   "metadata": {
    "ExecuteTime": {
     "end_time": "2020-11-21T11:21:59.389967Z",
     "start_time": "2020-11-21T11:21:59.381655Z"
    }
   },
   "outputs": [],
   "source": [
    "layer_output = np.random.random(size=(32,10)) #(batch_size, features)"
   ]
  },
  {
   "cell_type": "code",
   "execution_count": 25,
   "metadata": {
    "ExecuteTime": {
     "end_time": "2020-11-21T11:22:09.324323Z",
     "start_time": "2020-11-21T11:22:09.317126Z"
    }
   },
   "outputs": [],
   "source": [
    "# At training time: we drop out 50% of the units in the output\n",
    "layer_output *= np.random.randint(0, high=2, size=layer_output.shape)"
   ]
  },
  {
   "cell_type": "markdown",
   "metadata": {},
   "source": [
    "\n",
    "At test time, we would be scaling the output down by the dropout rate. Here we scale by 0.5 (because we were previous dropping half the \n",
    "units):"
   ]
  },
  {
   "cell_type": "code",
   "execution_count": 26,
   "metadata": {
    "ExecuteTime": {
     "end_time": "2020-11-21T11:22:11.226293Z",
     "start_time": "2020-11-21T11:22:11.223413Z"
    }
   },
   "outputs": [],
   "source": [
    "# At test time:\n",
    "layer_output *= 0.5"
   ]
  },
  {
   "cell_type": "markdown",
   "metadata": {},
   "source": [
    "\n",
    "Note that this process can be implemented by doing both operations at training time and leaving the output unchanged at test time, which is \n",
    "often the way it is implemented in practice:"
   ]
  },
  {
   "cell_type": "code",
   "execution_count": 28,
   "metadata": {
    "ExecuteTime": {
     "end_time": "2020-11-21T11:22:17.602035Z",
     "start_time": "2020-11-21T11:22:17.598117Z"
    }
   },
   "outputs": [],
   "source": [
    "# At training time:\n",
    "layer_output *= np.random.randint(0, high=2, size=layer_output.shape)\n",
    "# Note that we are scaling *up* rather scaling *down* in this case\n",
    "layer_output /= 0.5"
   ]
  },
  {
   "cell_type": "markdown",
   "metadata": {},
   "source": [
    "\n",
    "This technique may seem strange and arbitrary. Why would this help reduce overfitting? Geoff Hinton has said that he was inspired, among \n",
    "other things, by a fraud prevention mechanism used by banks -- in his own words: _\"I went to my bank. The tellers kept changing and I asked \n",
    "one of them why. He said he didn’t know but they got moved around a lot. I figured it must be because it would require cooperation \n",
    "between employees to successfully defraud the bank. This made me realize that randomly removing a different subset of neurons on each \n",
    "example would prevent conspiracies and thus reduce overfitting\"_.\n",
    "\n",
    "The core idea is that introducing noise in the output values of a layer can break up happenstance patterns that are not significant (what \n",
    "Hinton refers to as \"conspiracies\"), which the network would start memorizing if no noise was present. \n",
    "\n",
    "In Keras you can introduce dropout in a network via the `Dropout` layer, which gets applied to the output of layer right before it, e.g.:"
   ]
  },
  {
   "cell_type": "markdown",
   "metadata": {},
   "source": [
    "Let's add two `Dropout` layers in our IMDB network to see how well they do at reducing overfitting:"
   ]
  },
  {
   "cell_type": "code",
   "execution_count": 30,
   "metadata": {
    "ExecuteTime": {
     "end_time": "2020-11-21T11:23:22.548925Z",
     "start_time": "2020-11-21T11:23:22.369681Z"
    }
   },
   "outputs": [],
   "source": [
    "dpt_model = tf.keras.models.Sequential()\n",
    "dpt_model.add(L.Dense(16, activation='relu', input_shape=(10000,)))\n",
    "dpt_model.add(L.Dropout(0.5))\n",
    "dpt_model.add(L.Dense(16, activation='relu'))\n",
    "dpt_model.add(L.Dropout(0.5))\n",
    "dpt_model.add(L.Dense(1, activation='sigmoid'))\n",
    "\n",
    "dpt_model.compile(optimizer='rmsprop',\n",
    "                  loss='binary_crossentropy',\n",
    "                  metrics=['acc'])"
   ]
  },
  {
   "cell_type": "code",
   "execution_count": 31,
   "metadata": {
    "ExecuteTime": {
     "end_time": "2020-11-21T11:24:20.833275Z",
     "start_time": "2020-11-21T11:23:23.276113Z"
    }
   },
   "outputs": [
    {
     "name": "stdout",
     "output_type": "stream",
     "text": [
      "Train on 25000 samples, validate on 25000 samples\n",
      "Epoch 1/20\n",
      "25000/25000 [==============================] - 6s 241us/sample - loss: 0.5482 - acc: 0.7314 - val_loss: 0.3978 - val_acc: 0.8723\n",
      "Epoch 2/20\n",
      "25000/25000 [==============================] - 3s 132us/sample - loss: 0.3862 - acc: 0.8480 - val_loss: 0.3062 - val_acc: 0.8850\n",
      "Epoch 3/20\n",
      "25000/25000 [==============================] - 2s 99us/sample - loss: 0.3117 - acc: 0.8876 - val_loss: 0.2781 - val_acc: 0.8884\n",
      "Epoch 4/20\n",
      "25000/25000 [==============================] - 2s 87us/sample - loss: 0.2676 - acc: 0.9062 - val_loss: 0.2962 - val_acc: 0.8805\n",
      "Epoch 5/20\n",
      "25000/25000 [==============================] - 3s 120us/sample - loss: 0.2278 - acc: 0.9206 - val_loss: 0.2851 - val_acc: 0.8883\n",
      "Epoch 6/20\n",
      "25000/25000 [==============================] - 3s 117us/sample - loss: 0.2083 - acc: 0.9294 - val_loss: 0.2949 - val_acc: 0.8875\n",
      "Epoch 7/20\n",
      "25000/25000 [==============================] - 2s 83us/sample - loss: 0.1900 - acc: 0.9362 - val_loss: 0.3139 - val_acc: 0.8848\n",
      "Epoch 8/20\n",
      "25000/25000 [==============================] - 3s 107us/sample - loss: 0.1712 - acc: 0.9422 - val_loss: 0.3441 - val_acc: 0.8836\n",
      "Epoch 9/20\n",
      "25000/25000 [==============================] - 3s 126us/sample - loss: 0.1581 - acc: 0.9462 - val_loss: 0.3598 - val_acc: 0.8816\n",
      "Epoch 10/20\n",
      "25000/25000 [==============================] - 3s 132us/sample - loss: 0.1472 - acc: 0.9520 - val_loss: 0.3806 - val_acc: 0.8822\n",
      "Epoch 11/20\n",
      "25000/25000 [==============================] - 3s 130us/sample - loss: 0.1374 - acc: 0.9517 - val_loss: 0.4158 - val_acc: 0.8804\n",
      "Epoch 12/20\n",
      "25000/25000 [==============================] - 3s 118us/sample - loss: 0.1324 - acc: 0.9544 - val_loss: 0.4543 - val_acc: 0.8798\n",
      "Epoch 13/20\n",
      "25000/25000 [==============================] - 3s 121us/sample - loss: 0.1267 - acc: 0.9565 - val_loss: 0.4509 - val_acc: 0.8782\n",
      "Epoch 14/20\n",
      "25000/25000 [==============================] - 3s 130us/sample - loss: 0.1146 - acc: 0.9610 - val_loss: 0.4885 - val_acc: 0.8787\n",
      "Epoch 15/20\n",
      "25000/25000 [==============================] - 2s 87us/sample - loss: 0.1120 - acc: 0.9624 - val_loss: 0.5226 - val_acc: 0.8774\n",
      "Epoch 16/20\n",
      "25000/25000 [==============================] - 2s 98us/sample - loss: 0.1109 - acc: 0.9625 - val_loss: 0.5194 - val_acc: 0.8784\n",
      "Epoch 17/20\n",
      "25000/25000 [==============================] - 2s 85us/sample - loss: 0.1074 - acc: 0.9631 - val_loss: 0.5561 - val_acc: 0.8778\n",
      "Epoch 18/20\n",
      "25000/25000 [==============================] - 2s 97us/sample - loss: 0.1010 - acc: 0.9656 - val_loss: 0.5531 - val_acc: 0.8753\n",
      "Epoch 19/20\n",
      "25000/25000 [==============================] - 3s 100us/sample - loss: 0.1034 - acc: 0.9658 - val_loss: 0.6094 - val_acc: 0.8754\n",
      "Epoch 20/20\n",
      "25000/25000 [==============================] - 2s 86us/sample - loss: 0.1050 - acc: 0.9650 - val_loss: 0.6035 - val_acc: 0.8718\n"
     ]
    }
   ],
   "source": [
    "dpt_model_hist = dpt_model.fit(x_train, y_train,\n",
    "                               epochs=20,\n",
    "                               batch_size=512,\n",
    "                               validation_data=(x_test, y_test))"
   ]
  },
  {
   "cell_type": "markdown",
   "metadata": {},
   "source": [
    "Let's plot the results:"
   ]
  },
  {
   "cell_type": "code",
   "execution_count": 32,
   "metadata": {
    "ExecuteTime": {
     "end_time": "2020-11-21T11:24:21.157375Z",
     "start_time": "2020-11-21T11:24:20.847129Z"
    }
   },
   "outputs": [
    {
     "data": {
      "image/png": "[encoded data removed]",
      "text/plain": [
       "<Figure size 432x288 with 1 Axes>"
      ]
     },
     "metadata": {
      "needs_background": "light"
     },
     "output_type": "display_data"
    }
   ],
   "source": [
    "dpt_model_val_loss = dpt_model_hist.history['val_loss']\n",
    "\n",
    "plt.plot(epochs, original_val_loss, 'b+', label='Original model')\n",
    "plt.plot(epochs, dpt_model_val_loss, 'bo', label='Dropout-regularized model')\n",
    "plt.xlabel('Epochs')\n",
    "plt.ylabel('Validation loss')\n",
    "plt.legend()\n",
    "\n",
    "plt.show()"
   ]
  },
  {
   "cell_type": "markdown",
   "metadata": {},
   "source": [
    "\n",
    "Again, a clear improvement over the reference network.\n",
    "\n",
    "To recap: here the most common ways to prevent overfitting in neural networks:\n",
    "\n",
    "* Getting more training data.\n",
    "* Reducing the capacity of the network.\n",
    "* Adding weight regularization.\n",
    "* Adding dropout."
   ]
  }
 ],
 "metadata": {
  "kernelspec": {
   "display_name": "Python 3",
   "language": "python",
   "name": "python3"
  },
  "language_info": {
   "codemirror_mode": {
    "name": "ipython",
    "version": 3
   },
   "file_extension": ".py",
   "mimetype": "text/x-python",
   "name": "python",
   "nbconvert_exporter": "python",
   "pygments_lexer": "ipython3",
   "version": "3.7.4"
  }
 },
 "nbformat": 4,
 "nbformat_minor": 2
}
